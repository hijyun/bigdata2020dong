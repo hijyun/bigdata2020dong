{
  "nbformat": 4,
  "nbformat_minor": 0,
  "metadata": {
    "colab": {
      "name": "marble.ipynb",
      "provenance": [],
      "authorship_tag": "ABX9TyMC1WAwgosDZUjWxkM5tURB",
      "include_colab_link": true
    },
    "kernelspec": {
      "name": "python3",
      "display_name": "Python 3"
    },
    "language_info": {
      "name": "python"
    }
  },
  "cells": [
    {
      "cell_type": "markdown",
      "metadata": {
        "id": "view-in-github",
        "colab_type": "text"
      },
      "source": [
        "<a href=\"https://colab.research.google.com/github/hijyun/2020-DDWU-Bigdata-idea-challenge/blob/master/elice/marble.ipynb\" target=\"_parent\"><img src=\"https://colab.research.google.com/assets/colab-badge.svg\" alt=\"Open In Colab\"/></a>"
      ]
    },
    {
      "cell_type": "markdown",
      "metadata": {
        "id": "8LHZ50jmkaeJ"
      },
      "source": [
        "빨간구슬 250g, 파란구슬 40g, 흰구술 10g 짜리를 조합해서 구슬 꾸러미를 만들때 가장 작은 조합을 리턴하라.\n",
        "조합으로 만들 수 없는 구슬은 -1을 리턴."
      ]
    },
    {
      "cell_type": "code",
      "metadata": {
        "id": "t331bzC-kXJQ"
      },
      "source": [
        "def solution():\n",
        "  num = int(input())\n",
        "  marble = [250,40,10]\n",
        "  stack = []\n",
        "\n",
        "  for r in marble:\n",
        "    for i in range(num//r):\n",
        "      stack.append(r)\n",
        "\n",
        "      if sum(stack) > num:\n",
        "        stack.pop()\n",
        "      elif sum(stack) == num:\n",
        "        print(len(stack))\n",
        "  if sum(stack) != num:\n",
        "    print(-1)"
      ],
      "execution_count": 2,
      "outputs": []
    },
    {
      "cell_type": "code",
      "metadata": {
        "colab": {
          "base_uri": "https://localhost:8080/"
        },
        "id": "PpZKHyn0kttX",
        "outputId": "ca63c218-14e9-4ed0-ae2d-dc73a38773d1"
      },
      "source": [
        "solution()"
      ],
      "execution_count": 3,
      "outputs": [
        {
          "output_type": "stream",
          "text": [
            "300\n",
            "3\n"
          ],
          "name": "stdout"
        }
      ]
    },
    {
      "cell_type": "code",
      "metadata": {
        "colab": {
          "base_uri": "https://localhost:8080/"
        },
        "id": "4n6iLj3Gk1pS",
        "outputId": "85ce4fc9-3e4b-4692-caa1-95e899bd285e"
      },
      "source": [
        "solution()"
      ],
      "execution_count": 4,
      "outputs": [
        {
          "output_type": "stream",
          "text": [
            "550\n",
            "4\n"
          ],
          "name": "stdout"
        }
      ]
    },
    {
      "cell_type": "code",
      "metadata": {
        "colab": {
          "base_uri": "https://localhost:8080/"
        },
        "id": "6zdLQJoNk27M",
        "outputId": "e700bb51-2e18-4e11-c675-b6e38c41ab1e"
      },
      "source": [
        "solution()"
      ],
      "execution_count": 5,
      "outputs": [
        {
          "output_type": "stream",
          "text": [
            "65\n",
            "-1\n"
          ],
          "name": "stdout"
        }
      ]
    },
    {
      "cell_type": "code",
      "metadata": {
        "id": "8IVEza3yk4m-"
      },
      "source": [
        ""
      ],
      "execution_count": null,
      "outputs": []
    }
  ]
}