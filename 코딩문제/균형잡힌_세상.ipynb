{
  "nbformat": 4,
  "nbformat_minor": 0,
  "metadata": {
    "colab": {
      "name": "균형잡힌 세상.ipynb",
      "provenance": [],
      "authorship_tag": "ABX9TyMGLTdkPnVjwXi4uF1ERkO1",
      "include_colab_link": true
    },
    "kernelspec": {
      "name": "python3",
      "display_name": "Python 3"
    },
    "language_info": {
      "name": "python"
    }
  },
  "cells": [
    {
      "cell_type": "markdown",
      "metadata": {
        "id": "view-in-github",
        "colab_type": "text"
      },
      "source": [
        "<a href=\"https://colab.research.google.com/github/hijyun/2020-DDWU-Bigdata-idea-challenge/blob/master/%EC%BD%94%EB%94%A9%EB%AC%B8%EC%A0%9C/%EA%B7%A0%ED%98%95%EC%9E%A1%ED%9E%8C_%EC%84%B8%EC%83%81.ipynb\" target=\"_parent\"><img src=\"https://colab.research.google.com/assets/colab-badge.svg\" alt=\"Open In Colab\"/></a>"
      ]
    },
    {
      "cell_type": "markdown",
      "metadata": {
        "id": "r8NWse_XLbxJ"
      },
      "source": [
        "# 균형잡힌 세상\n",
        "https://www.acmicpc.net/problem/4949"
      ]
    },
    {
      "cell_type": "markdown",
      "metadata": {
        "id": "3itCLAZfLl7M"
      },
      "source": [
        "세계는 균형이 잘 잡혀있어야 한다. 양과 음, 빛과 어둠 그리고 왼쪽 괄호와 오른쪽 괄호처럼 말이다.\n",
        "\n",
        "정민이의 임무는 어떤 문자열이 주어졌을 때, 괄호들의 균형이 잘 맞춰져 있는지 판단하는 프로그램을 짜는 것이다.\n",
        "\n",
        "문자열에 포함되는 괄호는 소괄호(\"()\") 와 대괄호(\"[]\")로 2종류이고, 문자열이 균형을 이루는 조건은 아래와 같다.\n",
        "\n",
        "모든 왼쪽 소괄호(\"(\")는 오른쪽 소괄호(\")\")와만 짝을 이뤄야 한다.\n",
        "모든 왼쪽 대괄호(\"[\")는 오른쪽 대괄호(\"]\")와만 짝을 이뤄야 한다.\n",
        "모든 오른쪽 괄호들은 자신과 짝을 이룰 수 있는 왼쪽 괄호가 존재한다.\n",
        "모든 괄호들의 짝은 1:1 매칭만 가능하다. 즉, 괄호 하나가 둘 이상의 괄호와 짝지어지지 않는다.\n",
        "짝을 이루는 두 괄호가 있을 때, 그 사이에 있는 문자열도 균형이 잡혀야 한다.\n",
        "정민이를 도와 문자열이 주어졌을 때 균형잡힌 문자열인지 아닌지를 판단해보자."
      ]
    },
    {
      "cell_type": "markdown",
      "metadata": {
        "id": "z3O2pdAdLn2c"
      },
      "source": [
        "## 입력\n",
        "하나 또는 여러줄에 걸쳐서 문자열이 주어진다. 각 문자열은 영문 알파벳, 공백, 소괄호(\"( )\") 대괄호(\"[ ]\")등으로 이루어져 있으며, 길이는 100글자보다 작거나 같다.\n",
        "\n",
        "입력의 종료조건으로 맨 마지막에 점 하나(\".\")가 들어온다."
      ]
    },
    {
      "cell_type": "markdown",
      "metadata": {
        "id": "ZlnnSesILrHh"
      },
      "source": [
        "# 출력\n",
        "각 줄마다 해당 문자열이 균형을 이루고 있으면 \"yes\"를, 아니면 \"no\"를 출력한다."
      ]
    },
    {
      "cell_type": "code",
      "metadata": {
        "id": "tsmc5Vk1LbF-"
      },
      "source": [
        "def solution():\n",
        "  while True:\n",
        "    texts = input()\n",
        "\n",
        "    if texts=='.':\n",
        "      break\n",
        "\n",
        "    stack = []\n",
        "    answer = True\n",
        "\n",
        "    table = {')':'(', ']':'[','}':'{'}\n",
        "\n",
        "    for char in texts:\n",
        "      if char in ('(','[','{',')',']','}'):\n",
        "          if char not in table :\n",
        "            stack.append(char)\n",
        "          elif not stack or table[char] != stack.pop():\n",
        "            answer = False\n",
        "\n",
        "    if len(stack) != 0:\n",
        "      answer = False\n",
        "\n",
        "    if answer :\n",
        "      print('yes')\n",
        "    else:\n",
        "      print('no')"
      ],
      "execution_count": null,
      "outputs": []
    },
    {
      "cell_type": "code",
      "metadata": {
        "id": "o5l5qlPWLdRu"
      },
      "source": [
        "solution()"
      ],
      "execution_count": null,
      "outputs": []
    }
  ]
}