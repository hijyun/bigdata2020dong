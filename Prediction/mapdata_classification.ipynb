{
  "nbformat": 4,
  "nbformat_minor": 0,
  "metadata": {
    "colab": {
      "name": "mapdata_classification",
      "provenance": [],
      "collapsed_sections": [],
      "include_colab_link": true
    },
    "kernelspec": {
      "name": "python3",
      "display_name": "Python 3"
    },
    "language_info": {
      "name": "python"
    }
  },
  "cells": [
    {
      "cell_type": "markdown",
      "metadata": {
        "id": "view-in-github",
        "colab_type": "text"
      },
      "source": [
        "<a href=\"https://colab.research.google.com/github/hijyun/2020-DDWU-Bigdata-idea-challenge/blob/master/Prediction/mapdata_classification.ipynb\" target=\"_parent\"><img src=\"https://colab.research.google.com/assets/colab-badge.svg\" alt=\"Open In Colab\"/></a>"
      ]
    },
    {
      "cell_type": "markdown",
      "metadata": {
        "id": "KPJ5cnz4e7h3"
      },
      "source": [
        "# 기본 패키지 설정"
      ]
    },
    {
      "cell_type": "code",
      "metadata": {
        "id": "tMsJfrg0e1aD"
      },
      "source": [
        "import numpy as np\n",
        "import matplotlib.pyplot as plt\n",
        "import collections\n",
        "import pandas as pd\n",
        "from sklearn import datasets\n",
        "\n",
        "from sklearn.model_selection import train_test_split\n",
        "\n",
        "from sklearn.tree import DecisionTreeClassifier # 결정 트리\n",
        "from sklearn.neighbors import KNeighborsClassifier # KNN\n",
        "from sklearn.linear_model import LogisticRegression # 로지스틱 회귀\n",
        "\n",
        "from sklearn.ensemble import VotingClassifier,RandomForestClassifier,AdaBoostClassifier # 앙상블 \n",
        "\n",
        "from sklearn.metrics import confusion_matrix, classification_report # 정오분류표\n",
        "from sklearn.metrics import accuracy_score, precision_score, recall_score, f1_score, roc_auc_score \n",
        "from sklearn.metrics import roc_curve, auc, roc_auc_score  # ROC곡선 그리기\n",
        "\n",
        "from sklearn.model_selection import learning_curve, validation_curve # 학습곡선, 검증곡선\n",
        "from sklearn.model_selection import GridSearchCV, cross_val_score  # 하이퍼파라미터 튜닝, 교차타당도"
      ],
      "execution_count": 2,
      "outputs": []
    },
    {
      "cell_type": "code",
      "metadata": {
        "id": "ZxEoFjNYSlO0"
      },
      "source": [
        "from lightgbm import LGBMClassifier\n",
        "from xgboost import XGBClassifier"
      ],
      "execution_count": 20,
      "outputs": []
    },
    {
      "cell_type": "markdown",
      "metadata": {
        "id": "sa9qupW1gYdv"
      },
      "source": [
        "# 데이터 읽기"
      ]
    },
    {
      "cell_type": "code",
      "metadata": {
        "id": "uKtf41efMSE1"
      },
      "source": [
        "df1 = pd.read_csv('https://raw.githubusercontent.com/hijyun/Overwatch-League-Prediction/main/preprocessing/e-sprot_data.csv')"
      ],
      "execution_count": 3,
      "outputs": []
    },
    {
      "cell_type": "code",
      "metadata": {
        "id": "bSyK89_qOsbC"
      },
      "source": [
        "X = df1.drop(['target'],axis=1)\n",
        "y = df1['target']"
      ],
      "execution_count": 4,
      "outputs": []
    },
    {
      "cell_type": "code",
      "metadata": {
        "id": "9_T6KEurhur_",
        "colab": {
          "base_uri": "https://localhost:8080/"
        },
        "outputId": "81cdb236-886c-4ad5-d6cd-d3158b0cab71"
      },
      "source": [
        "df1.shape"
      ],
      "execution_count": 5,
      "outputs": [
        {
          "output_type": "execute_result",
          "data": {
            "text/plain": [
              "(3632, 7)"
            ]
          },
          "metadata": {
            "tags": []
          },
          "execution_count": 5
        }
      ]
    },
    {
      "cell_type": "code",
      "metadata": {
        "id": "g9R9SC-P3Fcz",
        "colab": {
          "base_uri": "https://localhost:8080/",
          "height": 215
        },
        "outputId": "4b5132ef-95aa-47c9-c2f0-e2df35d7ba3b"
      },
      "source": [
        "df1.head()"
      ],
      "execution_count": 6,
      "outputs": [
        {
          "output_type": "execute_result",
          "data": {
            "text/html": [
              "<div>\n",
              "<style scoped>\n",
              "    .dataframe tbody tr th:only-of-type {\n",
              "        vertical-align: middle;\n",
              "    }\n",
              "\n",
              "    .dataframe tbody tr th {\n",
              "        vertical-align: top;\n",
              "    }\n",
              "\n",
              "    .dataframe thead th {\n",
              "        text-align: right;\n",
              "    }\n",
              "</style>\n",
              "<table border=\"1\" class=\"dataframe\">\n",
              "  <thead>\n",
              "    <tr style=\"text-align: right;\">\n",
              "      <th></th>\n",
              "      <th>diff_att_pdistance</th>\n",
              "      <th>diff_def_pdistance</th>\n",
              "      <th>diff_att_time_b</th>\n",
              "      <th>diff_def_time_b</th>\n",
              "      <th>diff_att_control_p</th>\n",
              "      <th>diff_def_control_p</th>\n",
              "      <th>target</th>\n",
              "    </tr>\n",
              "  </thead>\n",
              "  <tbody>\n",
              "    <tr>\n",
              "      <th>0</th>\n",
              "      <td>0.034546</td>\n",
              "      <td>-75.615051</td>\n",
              "      <td>125.750572</td>\n",
              "      <td>240.000000</td>\n",
              "      <td>0.0</td>\n",
              "      <td>0.0</td>\n",
              "      <td>1</td>\n",
              "    </tr>\n",
              "    <tr>\n",
              "      <th>1</th>\n",
              "      <td>0.000000</td>\n",
              "      <td>0.000000</td>\n",
              "      <td>11.693085</td>\n",
              "      <td>-224.587952</td>\n",
              "      <td>0.0</td>\n",
              "      <td>0.0</td>\n",
              "      <td>1</td>\n",
              "    </tr>\n",
              "    <tr>\n",
              "      <th>2</th>\n",
              "      <td>0.000000</td>\n",
              "      <td>0.000000</td>\n",
              "      <td>0.000000</td>\n",
              "      <td>0.000000</td>\n",
              "      <td>0.0</td>\n",
              "      <td>-165.0</td>\n",
              "      <td>1</td>\n",
              "    </tr>\n",
              "    <tr>\n",
              "      <th>3</th>\n",
              "      <td>0.014160</td>\n",
              "      <td>-75.549507</td>\n",
              "      <td>165.840027</td>\n",
              "      <td>0.000000</td>\n",
              "      <td>0.0</td>\n",
              "      <td>0.0</td>\n",
              "      <td>1</td>\n",
              "    </tr>\n",
              "    <tr>\n",
              "      <th>4</th>\n",
              "      <td>0.017067</td>\n",
              "      <td>-70.161865</td>\n",
              "      <td>186.312805</td>\n",
              "      <td>240.000000</td>\n",
              "      <td>0.0</td>\n",
              "      <td>0.0</td>\n",
              "      <td>1</td>\n",
              "    </tr>\n",
              "  </tbody>\n",
              "</table>\n",
              "</div>"
            ],
            "text/plain": [
              "   diff_att_pdistance  diff_def_pdistance  ...  diff_def_control_p  target\n",
              "0            0.034546          -75.615051  ...                 0.0       1\n",
              "1            0.000000            0.000000  ...                 0.0       1\n",
              "2            0.000000            0.000000  ...              -165.0       1\n",
              "3            0.014160          -75.549507  ...                 0.0       1\n",
              "4            0.017067          -70.161865  ...                 0.0       1\n",
              "\n",
              "[5 rows x 7 columns]"
            ]
          },
          "metadata": {
            "tags": []
          },
          "execution_count": 6
        }
      ]
    },
    {
      "cell_type": "code",
      "metadata": {
        "colab": {
          "base_uri": "https://localhost:8080/"
        },
        "id": "04iYHSxK8Khd",
        "outputId": "1a52c47d-862b-4f43-f41d-584d803654fc"
      },
      "source": [
        "df1.info()"
      ],
      "execution_count": 7,
      "outputs": [
        {
          "output_type": "stream",
          "text": [
            "<class 'pandas.core.frame.DataFrame'>\n",
            "RangeIndex: 3632 entries, 0 to 3631\n",
            "Data columns (total 7 columns):\n",
            " #   Column              Non-Null Count  Dtype  \n",
            "---  ------              --------------  -----  \n",
            " 0   diff_att_pdistance  3632 non-null   float64\n",
            " 1   diff_def_pdistance  3632 non-null   float64\n",
            " 2   diff_att_time_b     3632 non-null   float64\n",
            " 3   diff_def_time_b     3632 non-null   float64\n",
            " 4   diff_att_control_p  3632 non-null   float64\n",
            " 5   diff_def_control_p  3632 non-null   float64\n",
            " 6   target              3632 non-null   int64  \n",
            "dtypes: float64(6), int64(1)\n",
            "memory usage: 198.8 KB\n"
          ],
          "name": "stdout"
        }
      ]
    },
    {
      "cell_type": "markdown",
      "metadata": {
        "id": "UQJW-Bm_8kFs"
      },
      "source": [
        "# 전처리 및 데이터 분할"
      ]
    },
    {
      "cell_type": "code",
      "metadata": {
        "id": "5BdZ1JPj8Lji"
      },
      "source": [
        "from sklearn.preprocessing import LabelEncoder\n",
        "\n",
        "le = LabelEncoder() # 범주형 변수를 0부터 시작하는 정수형 숫자로 변환\n",
        "y = le.fit_transform(y)\n"
      ],
      "execution_count": 8,
      "outputs": []
    },
    {
      "cell_type": "code",
      "metadata": {
        "colab": {
          "base_uri": "https://localhost:8080/"
        },
        "id": "Is1cn1Q-Bqel",
        "outputId": "8b038552-30e8-48c7-cdaf-e08775bdb168"
      },
      "source": [
        "y"
      ],
      "execution_count": 9,
      "outputs": [
        {
          "output_type": "execute_result",
          "data": {
            "text/plain": [
              "array([1, 1, 1, ..., 0, 0, 0])"
            ]
          },
          "metadata": {
            "tags": []
          },
          "execution_count": 9
        }
      ]
    },
    {
      "cell_type": "markdown",
      "metadata": {
        "id": "OHEKpWiV_Y9Q"
      },
      "source": [
        "## train data , test data split"
      ]
    },
    {
      "cell_type": "code",
      "metadata": {
        "id": "4q0qz4Xc-AfR"
      },
      "source": [
        "X_train, X_test, y_train, y_test = train_test_split(X,y, test_size=0.3, random_state=1234, stratify=y)"
      ],
      "execution_count": 10,
      "outputs": []
    },
    {
      "cell_type": "markdown",
      "metadata": {
        "id": "-9EDGVvd-GAx"
      },
      "source": [
        "# 모델"
      ]
    },
    {
      "cell_type": "code",
      "metadata": {
        "id": "O2miBjoW-Eu2"
      },
      "source": [
        "logistic = LogisticRegression(solver='liblinear',penalty='l2',C=0.1,random_state=1)\n",
        "tree = DecisionTreeClassifier(max_depth=5,criterion='entropy',random_state=1)\n",
        "knn = KNeighborsClassifier(n_neighbors=2,p=2,metric='minkowski')\n",
        "\n",
        "voting_estimators = [('logistic', logistic), ('tree', tree), ('knn', knn)]\n",
        "\n",
        "voting = VotingClassifier(estimators = voting_estimators,voting='soft')\n",
        "\n",
        "forest = RandomForestClassifier(criterion='entropy',n_estimators=700,random_state=1)\n",
        "\n",
        "\n",
        "adaboost = AdaBoostClassifier(base_estimator=tree, \n",
        "                                n_estimators=300,\n",
        "                                learning_rate = 0.01, \n",
        "                                random_state=42)\n",
        "lgb = LGBMClassifier(random_state=42)\n",
        "xgb = XGBClassifier(tree_method='hist',random_state=41)\n",
        "\n",
        "clf_labels = ['Knn','Decision tree',  'Majority voting','Random forest','Ada boost','XGB','LIGHTGBM']\n",
        "\n",
        "all_clf = [knn, tree, voting, forest,adaboost,xgb,lgb]"
      ],
      "execution_count": 23,
      "outputs": []
    },
    {
      "cell_type": "markdown",
      "metadata": {
        "id": "s-y2wJXhHQ9E"
      },
      "source": [
        "### AUC 검정"
      ]
    },
    {
      "cell_type": "code",
      "metadata": {
        "colab": {
          "base_uri": "https://localhost:8080/"
        },
        "id": "VG4xWnLPHPvt",
        "outputId": "9bc1b98f-6cb8-4bab-c430-31a3b671288f"
      },
      "source": [
        "for clf, label in zip(all_clf, clf_labels):\n",
        "  scores = cross_val_score(estimator=clf,X=X_train,y=y_train,cv=10,scoring='roc_auc')\n",
        "  print(\"ROC AUC: %0.3f (+/- %0.3f) [%s]\"\n",
        "  % (scores.mean(), scores.std(), label))"
      ],
      "execution_count": 12,
      "outputs": [
        {
          "output_type": "stream",
          "text": [
            "ROC AUC: 0.899 (+/- 0.023) [Logistic regression]\n",
            "ROC AUC: 0.966 (+/- 0.010) [Decision tree]\n",
            "ROC AUC: 0.942 (+/- 0.018) [KNN]\n",
            "ROC AUC: 0.973 (+/- 0.012) [Majority voting]\n",
            "ROC AUC: 0.983 (+/- 0.006) [Random forest]\n",
            "ROC AUC: 0.972 (+/- 0.008) [Ada boost]\n"
          ],
          "name": "stdout"
        }
      ]
    },
    {
      "cell_type": "markdown",
      "metadata": {
        "id": "NlFBV-_dKdKd"
      },
      "source": [
        "### ROC 커브"
      ]
    },
    {
      "cell_type": "code",
      "metadata": {
        "colab": {
          "base_uri": "https://localhost:8080/",
          "height": 279
        },
        "id": "Tz_TkkMbIQT6",
        "outputId": "06c7054b-6c99-460c-ddf2-95edbfe86600"
      },
      "source": [
        "colors = ['black', 'orange', 'blue', 'green','red','gray','skyblue']\n",
        "linestyles = [':', '--', '-.', '-','solid','dashdot','dotted']\n",
        "for clf, label, clr, ls \\\n",
        "        in zip(all_clf, clf_labels, colors, linestyles):\n",
        "\n",
        "  clf.fit(X_train, y_train)\n",
        "  y_pred = clf.predict_proba(X_test)[:, 1]\n",
        "  fpr, tpr, thresholds = roc_curve(y_true=y_test,\n",
        "                                  y_score=y_pred)\n",
        "  roc_auc = auc(x=fpr, y=tpr) # 교차검증 X\n",
        "  plt.plot(fpr, tpr,\n",
        "            color=clr,\n",
        "            linestyle=ls,\n",
        "            label='%s (auc = %0.3f)' % (label, roc_auc))\n",
        "  \n",
        "plt.legend(loc='lower right')\n",
        "plt.plot([0, 1], [0, 1],\n",
        "          linestyle='--',\n",
        "          color='gray',\n",
        "          linewidth=2)\n",
        "\n",
        "plt.xlim([-0.1, 1.1])\n",
        "plt.ylim([-0.1, 1.1])\n",
        "plt.grid(alpha=0.5)\n",
        "plt.xlabel('False positive rate (FPR)')\n",
        "plt.ylabel('True positive rate (TPR)')\n",
        "\n",
        "plt.show()"
      ],
      "execution_count": 24,
      "outputs": [
        {
          "output_type": "display_data",
          "data": {
            "image/png": "[encoded data removed]",
            "text/plain": [
              "<Figure size 432x288 with 1 Axes>"
            ]
          },
          "metadata": {
            "tags": [],
            "needs_background": "light"
          }
        }
      ]
    },
    {
      "cell_type": "markdown",
      "metadata": {
        "id": "aB-V1ksqJAQ2"
      },
      "source": [
        "### 정오 분류표로 검정"
      ]
    },
    {
      "cell_type": "code",
      "metadata": {
        "colab": {
          "base_uri": "https://localhost:8080/"
        },
        "id": "1D-SUH9zI_t7",
        "outputId": "974a9cd9-00e5-4dec-e3f7-df44a3d1f111"
      },
      "source": [
        "voting.fit(X_train, y_train)\n",
        "y_pred = voting.predict(X_test)\n",
        "\n",
        "print('잘못 분류된 샘플 개수: %d' % (y_test != y_pred).sum())\n",
        "print('정확도: %.3f' % accuracy_score(y_test, y_pred))\n",
        "print('정밀도: %.3f' % precision_score(y_true=y_test, y_pred=y_pred))\n",
        "print('재현율: %.3f' % recall_score(y_true=y_test, y_pred=y_pred))\n",
        "print('F1: %.3f' % f1_score(y_true=y_test, y_pred=y_pred))"
      ],
      "execution_count": 14,
      "outputs": [
        {
          "output_type": "stream",
          "text": [
            "잘못 분류된 샘플 개수: 106\n",
            "정확도: 0.903\n",
            "정밀도: 0.879\n",
            "재현율: 0.908\n",
            "F1: 0.894\n"
          ],
          "name": "stdout"
        }
      ]
    },
    {
      "cell_type": "markdown",
      "metadata": {
        "id": "V8SpcdJXn9E6"
      },
      "source": [
        "# 튜닝"
      ]
    },
    {
      "cell_type": "markdown",
      "metadata": {
        "id": "ykYFSZ2Pn_Ap"
      },
      "source": [
        "## adaboost"
      ]
    },
    {
      "cell_type": "code",
      "metadata": {
        "colab": {
          "base_uri": "https://localhost:8080/"
        },
        "id": "3eQEUVq5n6rJ",
        "outputId": "b37949d5-6471-4f65-e6b3-a789ae6a755d"
      },
      "source": [
        "adaboost.get_params()"
      ],
      "execution_count": 15,
      "outputs": [
        {
          "output_type": "execute_result",
          "data": {
            "text/plain": [
              "{'algorithm': 'SAMME.R',\n",
              " 'base_estimator': DecisionTreeClassifier(ccp_alpha=0.0, class_weight=None, criterion='entropy',\n",
              "                        max_depth=5, max_features=None, max_leaf_nodes=None,\n",
              "                        min_impurity_decrease=0.0, min_impurity_split=None,\n",
              "                        min_samples_leaf=1, min_samples_split=2,\n",
              "                        min_weight_fraction_leaf=0.0, presort='deprecated',\n",
              "                        random_state=1, splitter='best'),\n",
              " 'base_estimator__ccp_alpha': 0.0,\n",
              " 'base_estimator__class_weight': None,\n",
              " 'base_estimator__criterion': 'entropy',\n",
              " 'base_estimator__max_depth': 5,\n",
              " 'base_estimator__max_features': None,\n",
              " 'base_estimator__max_leaf_nodes': None,\n",
              " 'base_estimator__min_impurity_decrease': 0.0,\n",
              " 'base_estimator__min_impurity_split': None,\n",
              " 'base_estimator__min_samples_leaf': 1,\n",
              " 'base_estimator__min_samples_split': 2,\n",
              " 'base_estimator__min_weight_fraction_leaf': 0.0,\n",
              " 'base_estimator__presort': 'deprecated',\n",
              " 'base_estimator__random_state': 1,\n",
              " 'base_estimator__splitter': 'best',\n",
              " 'learning_rate': 0.01,\n",
              " 'n_estimators': 300,\n",
              " 'random_state': 42}"
            ]
          },
          "metadata": {
            "tags": []
          },
          "execution_count": 15
        }
      ]
    },
    {
      "cell_type": "code",
      "metadata": {
        "colab": {
          "base_uri": "https://localhost:8080/"
        },
        "id": "AiHX8u-soBzg",
        "outputId": "673cf2e0-e99f-431d-8ef8-ae4bf7199418"
      },
      "source": [
        "parms = {'n_estimators': [100,200,300]\n",
        "             }\n",
        "\n",
        "\n",
        "grid = GridSearchCV(estimator=adaboost, \n",
        "                    param_grid=parms,\n",
        "                    cv=10,\n",
        "                    scoring='roc_auc',\n",
        "                    iid=False)\n",
        "\n",
        "grid.fit(X_train,y_train)\n",
        "\n",
        "for r, _ in enumerate(grid.cv_results_['mean_test_score']):\n",
        "  print(\"%0.3f +/- %0.3f %r\" % (grid.cv_results_['mean_test_score'][r],\n",
        "        grid.cv_results_['std_test_score'][r] / 2.0,\n",
        "        grid.cv_results_['params'][r]))"
      ],
      "execution_count": 17,
      "outputs": [
        {
          "output_type": "stream",
          "text": [
            "/usr/local/lib/python3.7/dist-packages/sklearn/model_selection/_search.py:823: FutureWarning: The parameter 'iid' is deprecated in 0.22 and will be removed in 0.24.\n",
            "  \"removed in 0.24.\", FutureWarning\n"
          ],
          "name": "stderr"
        },
        {
          "output_type": "stream",
          "text": [
            "0.981 +/- 0.004 {'n_estimators': 100}\n",
            "0.975 +/- 0.004 {'n_estimators': 200}\n",
            "0.972 +/- 0.004 {'n_estimators': 300}\n"
          ],
          "name": "stdout"
        }
      ]
    },
    {
      "cell_type": "code",
      "metadata": {
        "colab": {
          "base_uri": "https://localhost:8080/"
        },
        "id": "8I6qfokLn__q",
        "outputId": "336234a6-a3b1-4f3d-913d-15452875ef04"
      },
      "source": [
        "print('최적의 파타미터: %s' % grid.best_params_)\n",
        "print('ACU: %.3f' % grid.best_score_)"
      ],
      "execution_count": 18,
      "outputs": [
        {
          "output_type": "stream",
          "text": [
            "최적의 파타미터: {'n_estimators': 100}\n",
            "ACU: 0.981\n"
          ],
          "name": "stdout"
        }
      ]
    },
    {
      "cell_type": "markdown",
      "metadata": {
        "id": "ZIP34mDJogOo"
      },
      "source": [
        "## voting"
      ]
    },
    {
      "cell_type": "code",
      "metadata": {
        "id": "a_1PRaQnohH8"
      },
      "source": [
        "parms = {'logistic__C':[0.001,0.1,100.0],\n",
        "         'tree__max_depth' :  [1,2,3,4,5],\n",
        "         'knn__n_neighbors':[1,2,3,4,5]}\n",
        "\n",
        "\n",
        "grid = GridSearchCV(estimator=voting, \n",
        "                    param_grid=parms,\n",
        "                    cv=10,\n",
        "                    scoring='roc_auc',\n",
        "                    iid=False)\n"
      ],
      "execution_count": 27,
      "outputs": []
    },
    {
      "cell_type": "code",
      "metadata": {
        "colab": {
          "base_uri": "https://localhost:8080/"
        },
        "id": "p1M3OEzuohfq",
        "outputId": "4016ae0c-8dd4-4a4d-b424-33db97a6fa9d"
      },
      "source": [
        "grid.fit(X_train,y_train)"
      ],
      "execution_count": 28,
      "outputs": [
        {
          "output_type": "stream",
          "text": [
            "/usr/local/lib/python3.7/dist-packages/sklearn/model_selection/_search.py:823: FutureWarning: The parameter 'iid' is deprecated in 0.22 and will be removed in 0.24.\n",
            "  \"removed in 0.24.\", FutureWarning\n"
          ],
          "name": "stderr"
        },
        {
          "output_type": "execute_result",
          "data": {
            "text/plain": [
              "GridSearchCV(cv=10, error_score=nan,\n",
              "             estimator=VotingClassifier(estimators=[('logistic',\n",
              "                                                     LogisticRegression(C=100,\n",
              "                                                                        class_weight=None,\n",
              "                                                                        dual=False,\n",
              "                                                                        fit_intercept=True,\n",
              "                                                                        intercept_scaling=1,\n",
              "                                                                        l1_ratio=None,\n",
              "                                                                        max_iter=100,\n",
              "                                                                        multi_class='auto',\n",
              "                                                                        n_jobs=None,\n",
              "                                                                        penalty='l2',\n",
              "                                                                        random_state=1,\n",
              "                                                                        solver='liblinear',\n",
              "                                                                        tol=0.0001,\n",
              "                                                                        verbose=0,\n",
              "                                                                        warm_start=False)),\n",
              "                                                    ('tree',\n",
              "                                                     DecisionTreeClassi...\n",
              "                                                                          metric='minkowski',\n",
              "                                                                          metric_params=None,\n",
              "                                                                          n_jobs=None,\n",
              "                                                                          n_neighbors=1,\n",
              "                                                                          p=2,\n",
              "                                                                          weights='uniform'))],\n",
              "                                        flatten_transform=True, n_jobs=None,\n",
              "                                        voting='soft', weights=None),\n",
              "             iid=False, n_jobs=None,\n",
              "             param_grid={'knn__n_neighbors': [1, 2, 3, 4, 5],\n",
              "                         'logistic__C': [0.001, 0.1, 100.0],\n",
              "                         'tree__max_depth': [1, 2, 3, 4, 5]},\n",
              "             pre_dispatch='2*n_jobs', refit=True, return_train_score=False,\n",
              "             scoring='roc_auc', verbose=0)"
            ]
          },
          "metadata": {
            "tags": []
          },
          "execution_count": 28
        }
      ]
    },
    {
      "cell_type": "code",
      "metadata": {
        "colab": {
          "base_uri": "https://localhost:8080/"
        },
        "id": "CvoisCpBoi8-",
        "outputId": "af4c8937-e68f-451a-e0ff-6b8bc22515e6"
      },
      "source": [
        "for r, _ in enumerate(grid.cv_results_['mean_test_score']):\n",
        "  print(\"%0.3f +/- %0.3f %r\" % (grid.cv_results_['mean_test_score'][r],\n",
        "        grid.cv_results_['std_test_score'][r] / 2.0,\n",
        "        grid.cv_results_['params'][r]))\n"
      ],
      "execution_count": 29,
      "outputs": [
        {
          "output_type": "stream",
          "text": [
            "0.944 +/- 0.011 {'knn__n_neighbors': 1, 'logistic__C': 0.001, 'tree__max_depth': 1}\n",
            "0.948 +/- 0.011 {'knn__n_neighbors': 1, 'logistic__C': 0.001, 'tree__max_depth': 2}\n",
            "0.952 +/- 0.009 {'knn__n_neighbors': 1, 'logistic__C': 0.001, 'tree__max_depth': 3}\n",
            "0.966 +/- 0.007 {'knn__n_neighbors': 1, 'logistic__C': 0.001, 'tree__max_depth': 4}\n",
            "0.969 +/- 0.006 {'knn__n_neighbors': 1, 'logistic__C': 0.001, 'tree__max_depth': 5}\n",
            "0.943 +/- 0.011 {'knn__n_neighbors': 1, 'logistic__C': 0.1, 'tree__max_depth': 1}\n",
            "0.948 +/- 0.011 {'knn__n_neighbors': 1, 'logistic__C': 0.1, 'tree__max_depth': 2}\n",
            "0.952 +/- 0.008 {'knn__n_neighbors': 1, 'logistic__C': 0.1, 'tree__max_depth': 3}\n",
            "0.966 +/- 0.007 {'knn__n_neighbors': 1, 'logistic__C': 0.1, 'tree__max_depth': 4}\n",
            "0.969 +/- 0.006 {'knn__n_neighbors': 1, 'logistic__C': 0.1, 'tree__max_depth': 5}\n",
            "0.943 +/- 0.011 {'knn__n_neighbors': 1, 'logistic__C': 100.0, 'tree__max_depth': 1}\n",
            "0.948 +/- 0.011 {'knn__n_neighbors': 1, 'logistic__C': 100.0, 'tree__max_depth': 2}\n",
            "0.952 +/- 0.008 {'knn__n_neighbors': 1, 'logistic__C': 100.0, 'tree__max_depth': 3}\n",
            "0.966 +/- 0.007 {'knn__n_neighbors': 1, 'logistic__C': 100.0, 'tree__max_depth': 4}\n",
            "0.969 +/- 0.006 {'knn__n_neighbors': 1, 'logistic__C': 100.0, 'tree__max_depth': 5}\n",
            "0.949 +/- 0.010 {'knn__n_neighbors': 2, 'logistic__C': 0.001, 'tree__max_depth': 1}\n",
            "0.954 +/- 0.009 {'knn__n_neighbors': 2, 'logistic__C': 0.001, 'tree__max_depth': 2}\n",
            "0.958 +/- 0.008 {'knn__n_neighbors': 2, 'logistic__C': 0.001, 'tree__max_depth': 3}\n",
            "0.971 +/- 0.007 {'knn__n_neighbors': 2, 'logistic__C': 0.001, 'tree__max_depth': 4}\n",
            "0.973 +/- 0.006 {'knn__n_neighbors': 2, 'logistic__C': 0.001, 'tree__max_depth': 5}\n",
            "0.949 +/- 0.010 {'knn__n_neighbors': 2, 'logistic__C': 0.1, 'tree__max_depth': 1}\n",
            "0.953 +/- 0.009 {'knn__n_neighbors': 2, 'logistic__C': 0.1, 'tree__max_depth': 2}\n",
            "0.958 +/- 0.008 {'knn__n_neighbors': 2, 'logistic__C': 0.1, 'tree__max_depth': 3}\n",
            "0.971 +/- 0.007 {'knn__n_neighbors': 2, 'logistic__C': 0.1, 'tree__max_depth': 4}\n",
            "0.973 +/- 0.006 {'knn__n_neighbors': 2, 'logistic__C': 0.1, 'tree__max_depth': 5}\n",
            "0.949 +/- 0.010 {'knn__n_neighbors': 2, 'logistic__C': 100.0, 'tree__max_depth': 1}\n",
            "0.954 +/- 0.009 {'knn__n_neighbors': 2, 'logistic__C': 100.0, 'tree__max_depth': 2}\n",
            "0.958 +/- 0.007 {'knn__n_neighbors': 2, 'logistic__C': 100.0, 'tree__max_depth': 3}\n",
            "0.971 +/- 0.007 {'knn__n_neighbors': 2, 'logistic__C': 100.0, 'tree__max_depth': 4}\n",
            "0.973 +/- 0.006 {'knn__n_neighbors': 2, 'logistic__C': 100.0, 'tree__max_depth': 5}\n",
            "0.951 +/- 0.009 {'knn__n_neighbors': 3, 'logistic__C': 0.001, 'tree__max_depth': 1}\n",
            "0.954 +/- 0.009 {'knn__n_neighbors': 3, 'logistic__C': 0.001, 'tree__max_depth': 2}\n",
            "0.958 +/- 0.007 {'knn__n_neighbors': 3, 'logistic__C': 0.001, 'tree__max_depth': 3}\n",
            "0.970 +/- 0.007 {'knn__n_neighbors': 3, 'logistic__C': 0.001, 'tree__max_depth': 4}\n",
            "0.973 +/- 0.006 {'knn__n_neighbors': 3, 'logistic__C': 0.001, 'tree__max_depth': 5}\n",
            "0.951 +/- 0.009 {'knn__n_neighbors': 3, 'logistic__C': 0.1, 'tree__max_depth': 1}\n",
            "0.954 +/- 0.009 {'knn__n_neighbors': 3, 'logistic__C': 0.1, 'tree__max_depth': 2}\n",
            "0.957 +/- 0.007 {'knn__n_neighbors': 3, 'logistic__C': 0.1, 'tree__max_depth': 3}\n",
            "0.970 +/- 0.007 {'knn__n_neighbors': 3, 'logistic__C': 0.1, 'tree__max_depth': 4}\n",
            "0.972 +/- 0.006 {'knn__n_neighbors': 3, 'logistic__C': 0.1, 'tree__max_depth': 5}\n",
            "0.951 +/- 0.009 {'knn__n_neighbors': 3, 'logistic__C': 100.0, 'tree__max_depth': 1}\n",
            "0.954 +/- 0.009 {'knn__n_neighbors': 3, 'logistic__C': 100.0, 'tree__max_depth': 2}\n",
            "0.957 +/- 0.007 {'knn__n_neighbors': 3, 'logistic__C': 100.0, 'tree__max_depth': 3}\n",
            "0.970 +/- 0.007 {'knn__n_neighbors': 3, 'logistic__C': 100.0, 'tree__max_depth': 4}\n",
            "0.972 +/- 0.006 {'knn__n_neighbors': 3, 'logistic__C': 100.0, 'tree__max_depth': 5}\n",
            "0.952 +/- 0.009 {'knn__n_neighbors': 4, 'logistic__C': 0.001, 'tree__max_depth': 1}\n",
            "0.955 +/- 0.009 {'knn__n_neighbors': 4, 'logistic__C': 0.001, 'tree__max_depth': 2}\n",
            "0.959 +/- 0.007 {'knn__n_neighbors': 4, 'logistic__C': 0.001, 'tree__max_depth': 3}\n",
            "0.970 +/- 0.006 {'knn__n_neighbors': 4, 'logistic__C': 0.001, 'tree__max_depth': 4}\n",
            "0.973 +/- 0.006 {'knn__n_neighbors': 4, 'logistic__C': 0.001, 'tree__max_depth': 5}\n",
            "0.952 +/- 0.009 {'knn__n_neighbors': 4, 'logistic__C': 0.1, 'tree__max_depth': 1}\n",
            "0.955 +/- 0.009 {'knn__n_neighbors': 4, 'logistic__C': 0.1, 'tree__max_depth': 2}\n",
            "0.959 +/- 0.007 {'knn__n_neighbors': 4, 'logistic__C': 0.1, 'tree__max_depth': 3}\n",
            "0.970 +/- 0.006 {'knn__n_neighbors': 4, 'logistic__C': 0.1, 'tree__max_depth': 4}\n",
            "0.972 +/- 0.006 {'knn__n_neighbors': 4, 'logistic__C': 0.1, 'tree__max_depth': 5}\n",
            "0.952 +/- 0.009 {'knn__n_neighbors': 4, 'logistic__C': 100.0, 'tree__max_depth': 1}\n",
            "0.955 +/- 0.009 {'knn__n_neighbors': 4, 'logistic__C': 100.0, 'tree__max_depth': 2}\n",
            "0.959 +/- 0.007 {'knn__n_neighbors': 4, 'logistic__C': 100.0, 'tree__max_depth': 3}\n",
            "0.970 +/- 0.006 {'knn__n_neighbors': 4, 'logistic__C': 100.0, 'tree__max_depth': 4}\n",
            "0.972 +/- 0.006 {'knn__n_neighbors': 4, 'logistic__C': 100.0, 'tree__max_depth': 5}\n",
            "0.953 +/- 0.009 {'knn__n_neighbors': 5, 'logistic__C': 0.001, 'tree__max_depth': 1}\n",
            "0.956 +/- 0.009 {'knn__n_neighbors': 5, 'logistic__C': 0.001, 'tree__max_depth': 2}\n",
            "0.959 +/- 0.007 {'knn__n_neighbors': 5, 'logistic__C': 0.001, 'tree__max_depth': 3}\n",
            "0.969 +/- 0.006 {'knn__n_neighbors': 5, 'logistic__C': 0.001, 'tree__max_depth': 4}\n",
            "0.972 +/- 0.006 {'knn__n_neighbors': 5, 'logistic__C': 0.001, 'tree__max_depth': 5}\n",
            "0.953 +/- 0.009 {'knn__n_neighbors': 5, 'logistic__C': 0.1, 'tree__max_depth': 1}\n",
            "0.957 +/- 0.008 {'knn__n_neighbors': 5, 'logistic__C': 0.1, 'tree__max_depth': 2}\n",
            "0.959 +/- 0.007 {'knn__n_neighbors': 5, 'logistic__C': 0.1, 'tree__max_depth': 3}\n",
            "0.969 +/- 0.006 {'knn__n_neighbors': 5, 'logistic__C': 0.1, 'tree__max_depth': 4}\n",
            "0.972 +/- 0.006 {'knn__n_neighbors': 5, 'logistic__C': 0.1, 'tree__max_depth': 5}\n",
            "0.953 +/- 0.009 {'knn__n_neighbors': 5, 'logistic__C': 100.0, 'tree__max_depth': 1}\n",
            "0.957 +/- 0.008 {'knn__n_neighbors': 5, 'logistic__C': 100.0, 'tree__max_depth': 2}\n",
            "0.959 +/- 0.007 {'knn__n_neighbors': 5, 'logistic__C': 100.0, 'tree__max_depth': 3}\n",
            "0.969 +/- 0.006 {'knn__n_neighbors': 5, 'logistic__C': 100.0, 'tree__max_depth': 4}\n",
            "0.972 +/- 0.006 {'knn__n_neighbors': 5, 'logistic__C': 100.0, 'tree__max_depth': 5}\n"
          ],
          "name": "stdout"
        }
      ]
    },
    {
      "cell_type": "code",
      "metadata": {
        "colab": {
          "base_uri": "https://localhost:8080/"
        },
        "id": "63ma0a20ok1n",
        "outputId": "880b07e0-ebfd-463b-a86e-54cc988dd749"
      },
      "source": [
        "print('최적의 파타미터: %s' % grid.best_params_)\n",
        "print('ACU: %.3f' % grid.best_score_)\n"
      ],
      "execution_count": 30,
      "outputs": [
        {
          "output_type": "stream",
          "text": [
            "최적의 파타미터: {'knn__n_neighbors': 2, 'logistic__C': 0.1, 'tree__max_depth': 5}\n",
            "ACU: 0.973\n"
          ],
          "name": "stdout"
        }
      ]
    }
  ]
}