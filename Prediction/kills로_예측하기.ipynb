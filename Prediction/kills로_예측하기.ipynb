{
  "nbformat": 4,
  "nbformat_minor": 0,
  "metadata": {
    "colab": {
      "name": "kills로 예측하기",
      "provenance": [],
      "collapsed_sections": [],
      "include_colab_link": true
    },
    "kernelspec": {
      "name": "python3",
      "display_name": "Python 3"
    },
    "language_info": {
      "name": "python"
    }
  },
  "cells": [
    {
      "cell_type": "markdown",
      "metadata": {
        "id": "view-in-github",
        "colab_type": "text"
      },
      "source": [
        "<a href=\"https://colab.research.google.com/github/hijyun/2020-DDWU-Bigdata-idea-challenge/blob/master/Prediction/kills%EB%A1%9C_%EC%98%88%EC%B8%A1%ED%95%98%EA%B8%B0.ipynb\" target=\"_parent\"><img src=\"https://colab.research.google.com/assets/colab-badge.svg\" alt=\"Open In Colab\"/></a>"
      ]
    },
    {
      "cell_type": "markdown",
      "metadata": {
        "id": "KPJ5cnz4e7h3"
      },
      "source": [
        "# 기본 패키지 설정"
      ]
    },
    {
      "cell_type": "code",
      "metadata": {
        "id": "tMsJfrg0e1aD"
      },
      "source": [
        "import numpy as np\n",
        "import matplotlib.pyplot as plt\n",
        "import collections\n",
        "import pandas as pd\n",
        "from sklearn import datasets\n",
        "\n",
        "from sklearn.model_selection import train_test_split\n",
        "\n",
        "from sklearn.tree import DecisionTreeClassifier # 결정 트리\n",
        "from sklearn.neighbors import KNeighborsClassifier # KNN\n",
        "from sklearn.linear_model import LogisticRegression # 로지스틱 회귀\n",
        "\n",
        "from sklearn.ensemble import VotingClassifier,RandomForestClassifier,AdaBoostClassifier # 앙상블 \n",
        "\n",
        "from sklearn.metrics import confusion_matrix, classification_report # 정오분류표\n",
        "from sklearn.metrics import accuracy_score, precision_score, recall_score, f1_score, roc_auc_score \n",
        "from sklearn.metrics import roc_curve, auc, roc_auc_score  # ROC곡선 그리기\n",
        "\n",
        "from sklearn.model_selection import learning_curve, validation_curve # 학습곡선, 검증곡선\n",
        "from sklearn.model_selection import GridSearchCV, cross_val_score  # 하이퍼파라미터 튜닝, 교차타당도"
      ],
      "execution_count": 7,
      "outputs": []
    },
    {
      "cell_type": "code",
      "metadata": {
        "id": "ZxEoFjNYSlO0"
      },
      "source": [
        "from lightgbm import LGBMClassifier\n",
        "from xgboost import XGBClassifier"
      ],
      "execution_count": 8,
      "outputs": []
    },
    {
      "cell_type": "markdown",
      "metadata": {
        "id": "sa9qupW1gYdv"
      },
      "source": [
        "# 데이터 읽기"
      ]
    },
    {
      "cell_type": "code",
      "metadata": {
        "id": "uKtf41efMSE1"
      },
      "source": [
        "df1 = pd.read_csv('https://raw.githubusercontent.com/hijyun/TIL/main/tanker_kills.csv')"
      ],
      "execution_count": 9,
      "outputs": []
    },
    {
      "cell_type": "code",
      "metadata": {
        "id": "_NrF-AxKsX33"
      },
      "source": [
        "df1 = df1.dropna(subset=['win'])"
      ],
      "execution_count": 10,
      "outputs": []
    },
    {
      "cell_type": "code",
      "metadata": {
        "colab": {
          "base_uri": "https://localhost:8080/"
        },
        "id": "WUE_UfJboTMg",
        "outputId": "712b110f-09aa-410b-f7a7-7015863fc913"
      },
      "source": [
        "df1.info()"
      ],
      "execution_count": 11,
      "outputs": [
        {
          "output_type": "stream",
          "text": [
            "<class 'pandas.core.frame.DataFrame'>\n",
            "Int64Index: 2241 entries, 0 to 2240\n",
            "Data columns (total 30 columns):\n",
            " #   Column                Non-Null Count  Dtype  \n",
            "---  ------                --------------  -----  \n",
            " 0   match_id              2241 non-null   int64  \n",
            " 1   map_name_x            2241 non-null   object \n",
            " 2   team                  2241 non-null   object \n",
            " 3   win                   2241 non-null   float64\n",
            " 4   key                   2241 non-null   object \n",
            " 5   esports_match_id      2241 non-null   int64  \n",
            " 6   map_name_y            2241 non-null   object \n",
            " 7   team_name             2241 non-null   object \n",
            " 8   Accretion Kills       1061 non-null   float64\n",
            " 9   Charge Kills          459 non-null    float64\n",
            " 10  Critical Hit Kills    1083 non-null   float64\n",
            " 11  Earthshatter Kills    524 non-null    float64\n",
            " 12  Environmental Kills   365 non-null    float64\n",
            " 13  Fire Strike Kills     666 non-null    float64\n",
            " 14  Grappling Claw Kills  441 non-null    float64\n",
            " 15  Gravitic Flux Kills   899 non-null    float64\n",
            " 16  Graviton Surge Kills  313 non-null    float64\n",
            " 17  High Energy Kills     367 non-null    float64\n",
            " 18  Jump Pack Kills       809 non-null    float64\n",
            " 19  Knockback Kills       1570 non-null   float64\n",
            " 20  Melee Kills           787 non-null    float64\n",
            " 21  Minefield Kills       153 non-null    float64\n",
            " 22  Multikills            944 non-null    float64\n",
            " 23  Objective Kills       2201 non-null   float64\n",
            " 24  Piledriver Kills      432 non-null    float64\n",
            " 25  Primal Rage Kills     645 non-null    float64\n",
            " 26  Self-Destruct Kills   511 non-null    float64\n",
            " 27  Solo Kills            890 non-null    float64\n",
            " 28  Weapon Kills          872 non-null    float64\n",
            " 29  Whole Hog Kills       111 non-null    float64\n",
            "dtypes: float64(23), int64(2), object(5)\n",
            "memory usage: 542.7+ KB\n"
          ],
          "name": "stdout"
        }
      ]
    },
    {
      "cell_type": "code",
      "metadata": {
        "colab": {
          "base_uri": "https://localhost:8080/"
        },
        "id": "11vMSpdfsSPs",
        "outputId": "d316ae0e-39d6-45f3-c193-6534831a7e4c"
      },
      "source": [
        "df1.isnull().sum()"
      ],
      "execution_count": 12,
      "outputs": [
        {
          "output_type": "execute_result",
          "data": {
            "text/plain": [
              "match_id                   0\n",
              "map_name_x                 0\n",
              "team                       0\n",
              "win                        0\n",
              "key                        0\n",
              "esports_match_id           0\n",
              "map_name_y                 0\n",
              "team_name                  0\n",
              "Accretion Kills         1180\n",
              "Charge Kills            1782\n",
              "Critical Hit Kills      1158\n",
              "Earthshatter Kills      1717\n",
              "Environmental Kills     1876\n",
              "Fire Strike Kills       1575\n",
              "Grappling Claw Kills    1800\n",
              "Gravitic Flux Kills     1342\n",
              "Graviton Surge Kills    1928\n",
              "High Energy Kills       1874\n",
              "Jump Pack Kills         1432\n",
              "Knockback Kills          671\n",
              "Melee Kills             1454\n",
              "Minefield Kills         2088\n",
              "Multikills              1297\n",
              "Objective Kills           40\n",
              "Piledriver Kills        1809\n",
              "Primal Rage Kills       1596\n",
              "Self-Destruct Kills     1730\n",
              "Solo Kills              1351\n",
              "Weapon Kills            1369\n",
              "Whole Hog Kills         2130\n",
              "dtype: int64"
            ]
          },
          "metadata": {
            "tags": []
          },
          "execution_count": 12
        }
      ]
    },
    {
      "cell_type": "code",
      "metadata": {
        "id": "bSyK89_qOsbC"
      },
      "source": [
        "X = df1.drop(['win','team','match_id','esports_match_id','map_name_x','key','map_name_y','team_name'],axis=1)\n",
        "y = df1['win']"
      ],
      "execution_count": 20,
      "outputs": []
    },
    {
      "cell_type": "code",
      "metadata": {
        "colab": {
          "base_uri": "https://localhost:8080/"
        },
        "id": "kfoQoUbs7tLG",
        "outputId": "3cfcf9b0-5f51-46e7-b21a-ff956dd1b440"
      },
      "source": [
        "X.info()"
      ],
      "execution_count": 21,
      "outputs": [
        {
          "output_type": "stream",
          "text": [
            "<class 'pandas.core.frame.DataFrame'>\n",
            "Int64Index: 2241 entries, 0 to 2240\n",
            "Data columns (total 22 columns):\n",
            " #   Column                Non-Null Count  Dtype  \n",
            "---  ------                --------------  -----  \n",
            " 0   Accretion Kills       1061 non-null   float64\n",
            " 1   Charge Kills          459 non-null    float64\n",
            " 2   Critical Hit Kills    1083 non-null   float64\n",
            " 3   Earthshatter Kills    524 non-null    float64\n",
            " 4   Environmental Kills   365 non-null    float64\n",
            " 5   Fire Strike Kills     666 non-null    float64\n",
            " 6   Grappling Claw Kills  441 non-null    float64\n",
            " 7   Gravitic Flux Kills   899 non-null    float64\n",
            " 8   Graviton Surge Kills  313 non-null    float64\n",
            " 9   High Energy Kills     367 non-null    float64\n",
            " 10  Jump Pack Kills       809 non-null    float64\n",
            " 11  Knockback Kills       1570 non-null   float64\n",
            " 12  Melee Kills           787 non-null    float64\n",
            " 13  Minefield Kills       153 non-null    float64\n",
            " 14  Multikills            944 non-null    float64\n",
            " 15  Objective Kills       2201 non-null   float64\n",
            " 16  Piledriver Kills      432 non-null    float64\n",
            " 17  Primal Rage Kills     645 non-null    float64\n",
            " 18  Self-Destruct Kills   511 non-null    float64\n",
            " 19  Solo Kills            890 non-null    float64\n",
            " 20  Weapon Kills          872 non-null    float64\n",
            " 21  Whole Hog Kills       111 non-null    float64\n",
            "dtypes: float64(22)\n",
            "memory usage: 402.7 KB\n"
          ],
          "name": "stdout"
        }
      ]
    },
    {
      "cell_type": "code",
      "metadata": {
        "colab": {
          "base_uri": "https://localhost:8080/",
          "height": 289
        },
        "id": "Cxn2-CZtrW0z",
        "outputId": "ad0f0661-95dc-4ad3-a56a-63ecfc260f93"
      },
      "source": [
        "df1['win'].value_counts().plot.bar()"
      ],
      "execution_count": 22,
      "outputs": [
        {
          "output_type": "execute_result",
          "data": {
            "text/plain": [
              "<matplotlib.axes._subplots.AxesSubplot at 0x7f74dae79810>"
            ]
          },
          "metadata": {
            "tags": []
          },
          "execution_count": 22
        },
        {
          "output_type": "display_data",
          "data": {
            "image/png": "[encoded data removed]",
            "text/plain": [
              "<Figure size 432x288 with 1 Axes>"
            ]
          },
          "metadata": {
            "tags": [],
            "needs_background": "light"
          }
        }
      ]
    },
    {
      "cell_type": "code",
      "metadata": {
        "id": "9_T6KEurhur_",
        "colab": {
          "base_uri": "https://localhost:8080/"
        },
        "outputId": "b9be5c75-19f1-4dda-a6b6-25215e59d177"
      },
      "source": [
        "df1.shape"
      ],
      "execution_count": 23,
      "outputs": [
        {
          "output_type": "execute_result",
          "data": {
            "text/plain": [
              "(2241, 30)"
            ]
          },
          "metadata": {
            "tags": []
          },
          "execution_count": 23
        }
      ]
    },
    {
      "cell_type": "markdown",
      "metadata": {
        "id": "UQJW-Bm_8kFs"
      },
      "source": [
        "# 전처리 및 데이터 분할"
      ]
    },
    {
      "cell_type": "code",
      "metadata": {
        "id": "5BdZ1JPj8Lji"
      },
      "source": [
        "from sklearn.preprocessing import LabelEncoder\n",
        "\n",
        "le = LabelEncoder() # 범주형 변수를 0부터 시작하는 정수형 숫자로 변환\n",
        "y = le.fit_transform(y)\n"
      ],
      "execution_count": 24,
      "outputs": []
    },
    {
      "cell_type": "code",
      "metadata": {
        "colab": {
          "base_uri": "https://localhost:8080/"
        },
        "id": "Is1cn1Q-Bqel",
        "outputId": "1dd1e888-45c0-4eed-ff60-4c90ef7ddcfc"
      },
      "source": [
        "y"
      ],
      "execution_count": 25,
      "outputs": [
        {
          "output_type": "execute_result",
          "data": {
            "text/plain": [
              "array([0, 1, 0, ..., 1, 0, 1])"
            ]
          },
          "metadata": {
            "tags": []
          },
          "execution_count": 25
        }
      ]
    },
    {
      "cell_type": "code",
      "metadata": {
        "id": "mVXj5PB8qqke"
      },
      "source": [
        "X = X.fillna(0)"
      ],
      "execution_count": 26,
      "outputs": []
    },
    {
      "cell_type": "markdown",
      "metadata": {
        "id": "OHEKpWiV_Y9Q"
      },
      "source": [
        "## train data , test data split"
      ]
    },
    {
      "cell_type": "code",
      "metadata": {
        "id": "4q0qz4Xc-AfR"
      },
      "source": [
        "X_train, X_test, y_train, y_test = train_test_split(X,y, test_size=0.3, random_state=1234)"
      ],
      "execution_count": 27,
      "outputs": []
    },
    {
      "cell_type": "markdown",
      "metadata": {
        "id": "-9EDGVvd-GAx"
      },
      "source": [
        "# 모델"
      ]
    },
    {
      "cell_type": "code",
      "metadata": {
        "id": "O2miBjoW-Eu2"
      },
      "source": [
        "logistic = LogisticRegression(solver='liblinear',penalty='l2',C=0.1,random_state=1)\n",
        "tree = DecisionTreeClassifier(max_depth=5,criterion='entropy',random_state=1)\n",
        "knn = KNeighborsClassifier(n_neighbors=5,p=2,metric='minkowski')\n",
        "\n",
        "voting_estimators = [('logistic', logistic), ('tree', tree), ('knn', knn)]\n",
        "\n",
        "voting = VotingClassifier(estimators = voting_estimators,voting='soft')\n",
        "\n",
        "forest = RandomForestClassifier(criterion='entropy',n_estimators=700,random_state=1)\n",
        "\n",
        "\n",
        "adaboost = AdaBoostClassifier(base_estimator=tree, \n",
        "                                n_estimators=100,\n",
        "                                learning_rate = 0.01, \n",
        "                                random_state=42)\n",
        "lgb = LGBMClassifier(random_state=42)\n",
        "xgb = XGBClassifier(tree_method='hist',random_state=41)\n",
        "\n",
        "clf_labels = ['Knn','Decision tree',  'Majority voting','Random forest','Ada boost','XGB','LIGHTGBM']\n",
        "\n",
        "all_clf = [knn, tree, voting, forest,adaboost,xgb,lgb]"
      ],
      "execution_count": 41,
      "outputs": []
    },
    {
      "cell_type": "markdown",
      "metadata": {
        "id": "s-y2wJXhHQ9E"
      },
      "source": [
        "### AUC 검정"
      ]
    },
    {
      "cell_type": "code",
      "metadata": {
        "colab": {
          "base_uri": "https://localhost:8080/"
        },
        "id": "VG4xWnLPHPvt",
        "outputId": "ba016e8e-1296-4b2a-9773-959ecbf7521f"
      },
      "source": [
        "for clf, label in zip(all_clf, clf_labels):\n",
        "  scores = cross_val_score(estimator=clf,X=X_train,y=y_train,cv=2,scoring='roc_auc')\n",
        "  print(\"ROC AUC: %0.3f (+/- %0.3f) [%s]\"\n",
        "  % (scores.mean(), scores.std(), label))"
      ],
      "execution_count": 42,
      "outputs": [
        {
          "output_type": "stream",
          "text": [
            "ROC AUC: 0.695 (+/- 0.004) [Knn]\n",
            "ROC AUC: 0.692 (+/- 0.001) [Decision tree]\n",
            "ROC AUC: 0.737 (+/- 0.006) [Majority voting]\n",
            "ROC AUC: 0.727 (+/- 0.009) [Random forest]\n",
            "ROC AUC: 0.700 (+/- 0.016) [Ada boost]\n",
            "ROC AUC: 0.747 (+/- 0.009) [XGB]\n",
            "ROC AUC: 0.713 (+/- 0.010) [LIGHTGBM]\n"
          ],
          "name": "stdout"
        }
      ]
    },
    {
      "cell_type": "markdown",
      "metadata": {
        "id": "NlFBV-_dKdKd"
      },
      "source": [
        "### ROC 커브"
      ]
    },
    {
      "cell_type": "code",
      "metadata": {
        "colab": {
          "base_uri": "https://localhost:8080/",
          "height": 279
        },
        "id": "Tz_TkkMbIQT6",
        "outputId": "fa4f6721-e0c1-44b0-eed9-5fb79dbc8a65"
      },
      "source": [
        "colors = ['black', 'orange', 'blue', 'green','red','gray','skyblue']\n",
        "linestyles = [':', '--', '-.', '-','solid','dashdot','dotted']\n",
        "for clf, label, clr, ls \\\n",
        "        in zip(all_clf, clf_labels, colors, linestyles):\n",
        "\n",
        "  clf.fit(X_train, y_train)\n",
        "  y_pred = clf.predict_proba(X_test)[:, 1]\n",
        "  fpr, tpr, thresholds = roc_curve(y_true=y_test,\n",
        "                                  y_score=y_pred)\n",
        "  roc_auc = auc(x=fpr, y=tpr) # 교차검증 X\n",
        "  plt.plot(fpr, tpr,\n",
        "            color=clr,\n",
        "            linestyle=ls,\n",
        "            label='%s (auc = %0.3f)' % (label, roc_auc))\n",
        "  \n",
        "plt.legend(loc='lower right')\n",
        "plt.plot([0, 1], [0, 1],\n",
        "          linestyle='--',\n",
        "          color='gray',\n",
        "          linewidth=2)\n",
        "\n",
        "plt.xlim([-0.1, 1.1])\n",
        "plt.ylim([-0.1, 1.1])\n",
        "plt.grid(alpha=0.5)\n",
        "plt.xlabel('False positive rate (FPR)')\n",
        "plt.ylabel('True positive rate (TPR)')\n",
        "\n",
        "plt.show()"
      ],
      "execution_count": 43,
      "outputs": [
        {
          "output_type": "display_data",
          "data": {
            "image/png": "[encoded data removed]",
            "text/plain": [
              "<Figure size 432x288 with 1 Axes>"
            ]
          },
          "metadata": {
            "tags": [],
            "needs_background": "light"
          }
        }
      ]
    },
    {
      "cell_type": "markdown",
      "metadata": {
        "id": "aB-V1ksqJAQ2"
      },
      "source": [
        "### 정오 분류표로 검정"
      ]
    },
    {
      "cell_type": "code",
      "metadata": {
        "colab": {
          "base_uri": "https://localhost:8080/"
        },
        "id": "1D-SUH9zI_t7",
        "outputId": "b1f2e8d7-9a1c-490d-8632-863073c3f1a1"
      },
      "source": [
        "voting.fit(X_train, y_train)\n",
        "y_pred = voting.predict(X_test)\n",
        "\n",
        "print('잘못 분류된 샘플 개수: %d' % (y_test != y_pred).sum())\n",
        "print('정확도: %.3f' % accuracy_score(y_test, y_pred))\n",
        "print('정밀도: %.3f' % precision_score(y_true=y_test, y_pred=y_pred))\n",
        "print('재현율: %.3f' % recall_score(y_true=y_test, y_pred=y_pred))\n",
        "print('F1: %.3f' % f1_score(y_true=y_test, y_pred=y_pred))"
      ],
      "execution_count": 31,
      "outputs": [
        {
          "output_type": "stream",
          "text": [
            "잘못 분류된 샘플 개수: 205\n",
            "정확도: 0.695\n",
            "정밀도: 0.696\n",
            "재현율: 0.686\n",
            "F1: 0.691\n"
          ],
          "name": "stdout"
        }
      ]
    },
    {
      "cell_type": "markdown",
      "metadata": {
        "id": "CrA3n0RuLUwB"
      },
      "source": [
        "# 특성중요도"
      ]
    },
    {
      "cell_type": "code",
      "metadata": {
        "id": "S65MD6Q1LWFH"
      },
      "source": [
        "forest.fit(X,y)\n",
        "\n",
        "features = X.columns.values"
      ],
      "execution_count": 45,
      "outputs": []
    },
    {
      "cell_type": "code",
      "metadata": {
        "colab": {
          "base_uri": "https://localhost:8080/"
        },
        "id": "dKAaJfx2Lp9m",
        "outputId": "f905d6d7-4e80-4503-df5f-d32be05e2a56"
      },
      "source": [
        "zip(forest.feature_importances_,features)"
      ],
      "execution_count": 46,
      "outputs": [
        {
          "output_type": "execute_result",
          "data": {
            "text/plain": [
              "<zip at 0x7f74c4c6e3c0>"
            ]
          },
          "metadata": {
            "tags": []
          },
          "execution_count": 46
        }
      ]
    },
    {
      "cell_type": "code",
      "metadata": {
        "colab": {
          "base_uri": "https://localhost:8080/",
          "height": 568
        },
        "id": "tDMREsBkLq0A",
        "outputId": "2887c57c-9637-41bd-be40-d7cc23a0580c"
      },
      "source": [
        "\n",
        "import seaborn as sns\n",
        "import matplotlib.pyplot as plt\n",
        "\n",
        "feature_importance = forest.feature_importances_\n",
        "# plot\n",
        "df_fi = pd.DataFrame({'columns':X.columns, 'importances':feature_importance})\n",
        "df_fi = df_fi[df_fi['importances'] > 0] # importance가 0이상인 것만 \n",
        "df_fi = df_fi.sort_values(by=['importances'], ascending=False)\n",
        "\n",
        "fig = plt.figure(figsize=(15,7))\n",
        "ax = sns.barplot(df_fi['columns'], df_fi['importances'])\n",
        "ax.set_xticklabels(df_fi['columns'], rotation=80, fontsize=13)\n",
        "plt.tight_layout()\n",
        "plt.show()"
      ],
      "execution_count": 47,
      "outputs": [
        {
          "output_type": "stream",
          "text": [
            "/usr/local/lib/python3.7/dist-packages/seaborn/_decorators.py:43: FutureWarning: Pass the following variables as keyword args: x, y. From version 0.12, the only valid positional argument will be `data`, and passing other arguments without an explicit keyword will result in an error or misinterpretation.\n",
            "  FutureWarning\n"
          ],
          "name": "stderr"
        },
        {
          "output_type": "display_data",
          "data": {
            "image/png": "[encoded data removed]",
            "text/plain": [
              "<Figure size 1080x504 with 1 Axes>"
            ]
          },
          "metadata": {
            "tags": [],
            "needs_background": "light"
          }
        }
      ]
    },
    {
      "cell_type": "markdown",
      "metadata": {
        "id": "V8SpcdJXn9E6"
      },
      "source": [
        "# 튜닝"
      ]
    },
    {
      "cell_type": "markdown",
      "metadata": {
        "id": "ykYFSZ2Pn_Ap"
      },
      "source": [
        "## adaboost"
      ]
    },
    {
      "cell_type": "code",
      "metadata": {
        "colab": {
          "base_uri": "https://localhost:8080/"
        },
        "id": "3eQEUVq5n6rJ",
        "outputId": "2e856acf-3e9c-4aca-a6c9-616489ab0263"
      },
      "source": [
        "adaboost.get_params()"
      ],
      "execution_count": 32,
      "outputs": [
        {
          "output_type": "execute_result",
          "data": {
            "text/plain": [
              "{'algorithm': 'SAMME.R',\n",
              " 'base_estimator': DecisionTreeClassifier(ccp_alpha=0.0, class_weight=None, criterion='entropy',\n",
              "                        max_depth=5, max_features=None, max_leaf_nodes=None,\n",
              "                        min_impurity_decrease=0.0, min_impurity_split=None,\n",
              "                        min_samples_leaf=1, min_samples_split=2,\n",
              "                        min_weight_fraction_leaf=0.0, presort='deprecated',\n",
              "                        random_state=1, splitter='best'),\n",
              " 'base_estimator__ccp_alpha': 0.0,\n",
              " 'base_estimator__class_weight': None,\n",
              " 'base_estimator__criterion': 'entropy',\n",
              " 'base_estimator__max_depth': 5,\n",
              " 'base_estimator__max_features': None,\n",
              " 'base_estimator__max_leaf_nodes': None,\n",
              " 'base_estimator__min_impurity_decrease': 0.0,\n",
              " 'base_estimator__min_impurity_split': None,\n",
              " 'base_estimator__min_samples_leaf': 1,\n",
              " 'base_estimator__min_samples_split': 2,\n",
              " 'base_estimator__min_weight_fraction_leaf': 0.0,\n",
              " 'base_estimator__presort': 'deprecated',\n",
              " 'base_estimator__random_state': 1,\n",
              " 'base_estimator__splitter': 'best',\n",
              " 'learning_rate': 0.01,\n",
              " 'n_estimators': 300,\n",
              " 'random_state': 42}"
            ]
          },
          "metadata": {
            "tags": []
          },
          "execution_count": 32
        }
      ]
    },
    {
      "cell_type": "code",
      "metadata": {
        "colab": {
          "base_uri": "https://localhost:8080/"
        },
        "id": "AiHX8u-soBzg",
        "outputId": "2b71067c-11ab-4b02-85c3-37898a815e88"
      },
      "source": [
        "parms = {'n_estimators': [100,200,300]\n",
        "             }\n",
        "\n",
        "\n",
        "grid = GridSearchCV(estimator=adaboost, \n",
        "                    param_grid=parms,\n",
        "                    cv=10,\n",
        "                    scoring='roc_auc',\n",
        "                    iid=False)\n",
        "\n",
        "grid.fit(X_train,y_train)\n",
        "\n",
        "for r, _ in enumerate(grid.cv_results_['mean_test_score']):\n",
        "  print(\"%0.3f +/- %0.3f %r\" % (grid.cv_results_['mean_test_score'][r],\n",
        "        grid.cv_results_['std_test_score'][r] / 2.0,\n",
        "        grid.cv_results_['params'][r]))"
      ],
      "execution_count": 39,
      "outputs": [
        {
          "output_type": "stream",
          "text": [
            "/usr/local/lib/python3.7/dist-packages/sklearn/model_selection/_search.py:823: FutureWarning: The parameter 'iid' is deprecated in 0.22 and will be removed in 0.24.\n",
            "  \"removed in 0.24.\", FutureWarning\n"
          ],
          "name": "stderr"
        },
        {
          "output_type": "stream",
          "text": [
            "0.718 +/- 0.016 {'n_estimators': 100}\n",
            "0.712 +/- 0.018 {'n_estimators': 200}\n",
            "0.711 +/- 0.017 {'n_estimators': 300}\n"
          ],
          "name": "stdout"
        }
      ]
    },
    {
      "cell_type": "code",
      "metadata": {
        "colab": {
          "base_uri": "https://localhost:8080/"
        },
        "id": "8I6qfokLn__q",
        "outputId": "4874302b-933e-4985-e28f-e3fb0757fd37"
      },
      "source": [
        "print('최적의 파타미터: %s' % grid.best_params_)\n",
        "print('ACU: %.3f' % grid.best_score_)"
      ],
      "execution_count": 40,
      "outputs": [
        {
          "output_type": "stream",
          "text": [
            "최적의 파타미터: {'n_estimators': 100}\n",
            "ACU: 0.718\n"
          ],
          "name": "stdout"
        }
      ]
    },
    {
      "cell_type": "markdown",
      "metadata": {
        "id": "ZIP34mDJogOo"
      },
      "source": [
        "## voting"
      ]
    },
    {
      "cell_type": "code",
      "metadata": {
        "id": "a_1PRaQnohH8"
      },
      "source": [
        "parms = {'logistic__C':[0.001,0.1,100.0],\n",
        "         'tree__max_depth' :  [1,2,3,4,5],\n",
        "         'knn__n_neighbors':[1,2,3,4,5]}\n",
        "\n",
        "\n",
        "grid = GridSearchCV(estimator=voting, \n",
        "                    param_grid=parms,\n",
        "                    cv=10,\n",
        "                    scoring='roc_auc',\n",
        "                    iid=False)\n"
      ],
      "execution_count": 35,
      "outputs": []
    },
    {
      "cell_type": "code",
      "metadata": {
        "colab": {
          "base_uri": "https://localhost:8080/"
        },
        "id": "p1M3OEzuohfq",
        "outputId": "a735033d-a996-4e15-fa8f-858b05ecd505"
      },
      "source": [
        "grid.fit(X_train,y_train)"
      ],
      "execution_count": 36,
      "outputs": [
        {
          "output_type": "stream",
          "text": [
            "/usr/local/lib/python3.7/dist-packages/sklearn/model_selection/_search.py:823: FutureWarning: The parameter 'iid' is deprecated in 0.22 and will be removed in 0.24.\n",
            "  \"removed in 0.24.\", FutureWarning\n"
          ],
          "name": "stderr"
        },
        {
          "output_type": "execute_result",
          "data": {
            "text/plain": [
              "GridSearchCV(cv=10, error_score=nan,\n",
              "             estimator=VotingClassifier(estimators=[('logistic',\n",
              "                                                     LogisticRegression(C=0.1,\n",
              "                                                                        class_weight=None,\n",
              "                                                                        dual=False,\n",
              "                                                                        fit_intercept=True,\n",
              "                                                                        intercept_scaling=1,\n",
              "                                                                        l1_ratio=None,\n",
              "                                                                        max_iter=100,\n",
              "                                                                        multi_class='auto',\n",
              "                                                                        n_jobs=None,\n",
              "                                                                        penalty='l2',\n",
              "                                                                        random_state=1,\n",
              "                                                                        solver='liblinear',\n",
              "                                                                        tol=0.0001,\n",
              "                                                                        verbose=0,\n",
              "                                                                        warm_start=False)),\n",
              "                                                    ('tree',\n",
              "                                                     DecisionTreeClassi...\n",
              "                                                                          metric='minkowski',\n",
              "                                                                          metric_params=None,\n",
              "                                                                          n_jobs=None,\n",
              "                                                                          n_neighbors=2,\n",
              "                                                                          p=2,\n",
              "                                                                          weights='uniform'))],\n",
              "                                        flatten_transform=True, n_jobs=None,\n",
              "                                        voting='soft', weights=None),\n",
              "             iid=False, n_jobs=None,\n",
              "             param_grid={'knn__n_neighbors': [1, 2, 3, 4, 5],\n",
              "                         'logistic__C': [0.001, 0.1, 100.0],\n",
              "                         'tree__max_depth': [1, 2, 3, 4, 5]},\n",
              "             pre_dispatch='2*n_jobs', refit=True, return_train_score=False,\n",
              "             scoring='roc_auc', verbose=0)"
            ]
          },
          "metadata": {
            "tags": []
          },
          "execution_count": 36
        }
      ]
    },
    {
      "cell_type": "code",
      "metadata": {
        "colab": {
          "base_uri": "https://localhost:8080/"
        },
        "id": "CvoisCpBoi8-",
        "outputId": "e8578af5-773f-4f98-9840-15c590b915a0"
      },
      "source": [
        "for r, _ in enumerate(grid.cv_results_['mean_test_score']):\n",
        "  print(\"%0.3f +/- %0.3f %r\" % (grid.cv_results_['mean_test_score'][r],\n",
        "        grid.cv_results_['std_test_score'][r] / 2.0,\n",
        "        grid.cv_results_['params'][r]))\n"
      ],
      "execution_count": null,
      "outputs": [
        {
          "output_type": "stream",
          "text": [
            "0.768 +/- 0.034 {'knn__n_neighbors': 1, 'logistic__C': 0.001, 'tree__max_depth': 1}\n",
            "0.780 +/- 0.034 {'knn__n_neighbors': 1, 'logistic__C': 0.001, 'tree__max_depth': 2}\n",
            "0.789 +/- 0.033 {'knn__n_neighbors': 1, 'logistic__C': 0.001, 'tree__max_depth': 3}\n",
            "0.796 +/- 0.034 {'knn__n_neighbors': 1, 'logistic__C': 0.001, 'tree__max_depth': 4}\n",
            "0.806 +/- 0.035 {'knn__n_neighbors': 1, 'logistic__C': 0.001, 'tree__max_depth': 5}\n",
            "0.781 +/- 0.031 {'knn__n_neighbors': 1, 'logistic__C': 0.1, 'tree__max_depth': 1}\n",
            "0.790 +/- 0.031 {'knn__n_neighbors': 1, 'logistic__C': 0.1, 'tree__max_depth': 2}\n",
            "0.799 +/- 0.033 {'knn__n_neighbors': 1, 'logistic__C': 0.1, 'tree__max_depth': 3}\n",
            "0.802 +/- 0.036 {'knn__n_neighbors': 1, 'logistic__C': 0.1, 'tree__max_depth': 4}\n",
            "0.812 +/- 0.034 {'knn__n_neighbors': 1, 'logistic__C': 0.1, 'tree__max_depth': 5}\n",
            "0.782 +/- 0.030 {'knn__n_neighbors': 1, 'logistic__C': 100.0, 'tree__max_depth': 1}\n",
            "0.792 +/- 0.030 {'knn__n_neighbors': 1, 'logistic__C': 100.0, 'tree__max_depth': 2}\n",
            "0.800 +/- 0.033 {'knn__n_neighbors': 1, 'logistic__C': 100.0, 'tree__max_depth': 3}\n",
            "0.805 +/- 0.034 {'knn__n_neighbors': 1, 'logistic__C': 100.0, 'tree__max_depth': 4}\n",
            "0.814 +/- 0.034 {'knn__n_neighbors': 1, 'logistic__C': 100.0, 'tree__max_depth': 5}\n",
            "0.774 +/- 0.041 {'knn__n_neighbors': 2, 'logistic__C': 0.001, 'tree__max_depth': 1}\n",
            "0.786 +/- 0.041 {'knn__n_neighbors': 2, 'logistic__C': 0.001, 'tree__max_depth': 2}\n",
            "0.797 +/- 0.040 {'knn__n_neighbors': 2, 'logistic__C': 0.001, 'tree__max_depth': 3}\n",
            "0.803 +/- 0.040 {'knn__n_neighbors': 2, 'logistic__C': 0.001, 'tree__max_depth': 4}\n",
            "0.813 +/- 0.038 {'knn__n_neighbors': 2, 'logistic__C': 0.001, 'tree__max_depth': 5}\n",
            "0.790 +/- 0.039 {'knn__n_neighbors': 2, 'logistic__C': 0.1, 'tree__max_depth': 1}\n",
            "0.800 +/- 0.039 {'knn__n_neighbors': 2, 'logistic__C': 0.1, 'tree__max_depth': 2}\n",
            "0.808 +/- 0.037 {'knn__n_neighbors': 2, 'logistic__C': 0.1, 'tree__max_depth': 3}\n",
            "0.808 +/- 0.039 {'knn__n_neighbors': 2, 'logistic__C': 0.1, 'tree__max_depth': 4}\n",
            "0.819 +/- 0.035 {'knn__n_neighbors': 2, 'logistic__C': 0.1, 'tree__max_depth': 5}\n",
            "0.789 +/- 0.038 {'knn__n_neighbors': 2, 'logistic__C': 100.0, 'tree__max_depth': 1}\n",
            "0.802 +/- 0.038 {'knn__n_neighbors': 2, 'logistic__C': 100.0, 'tree__max_depth': 2}\n",
            "0.808 +/- 0.038 {'knn__n_neighbors': 2, 'logistic__C': 100.0, 'tree__max_depth': 3}\n",
            "0.814 +/- 0.037 {'knn__n_neighbors': 2, 'logistic__C': 100.0, 'tree__max_depth': 4}\n",
            "0.820 +/- 0.034 {'knn__n_neighbors': 2, 'logistic__C': 100.0, 'tree__max_depth': 5}\n",
            "0.800 +/- 0.034 {'knn__n_neighbors': 3, 'logistic__C': 0.001, 'tree__max_depth': 1}\n",
            "0.809 +/- 0.037 {'knn__n_neighbors': 3, 'logistic__C': 0.001, 'tree__max_depth': 2}\n",
            "0.817 +/- 0.040 {'knn__n_neighbors': 3, 'logistic__C': 0.001, 'tree__max_depth': 3}\n",
            "0.820 +/- 0.043 {'knn__n_neighbors': 3, 'logistic__C': 0.001, 'tree__max_depth': 4}\n",
            "0.831 +/- 0.036 {'knn__n_neighbors': 3, 'logistic__C': 0.001, 'tree__max_depth': 5}\n",
            "0.813 +/- 0.030 {'knn__n_neighbors': 3, 'logistic__C': 0.1, 'tree__max_depth': 1}\n",
            "0.820 +/- 0.034 {'knn__n_neighbors': 3, 'logistic__C': 0.1, 'tree__max_depth': 2}\n",
            "0.825 +/- 0.036 {'knn__n_neighbors': 3, 'logistic__C': 0.1, 'tree__max_depth': 3}\n",
            "0.827 +/- 0.040 {'knn__n_neighbors': 3, 'logistic__C': 0.1, 'tree__max_depth': 4}\n",
            "0.838 +/- 0.033 {'knn__n_neighbors': 3, 'logistic__C': 0.1, 'tree__max_depth': 5}\n",
            "0.815 +/- 0.028 {'knn__n_neighbors': 3, 'logistic__C': 100.0, 'tree__max_depth': 1}\n",
            "0.825 +/- 0.032 {'knn__n_neighbors': 3, 'logistic__C': 100.0, 'tree__max_depth': 2}\n",
            "0.828 +/- 0.036 {'knn__n_neighbors': 3, 'logistic__C': 100.0, 'tree__max_depth': 3}\n",
            "0.830 +/- 0.038 {'knn__n_neighbors': 3, 'logistic__C': 100.0, 'tree__max_depth': 4}\n",
            "0.840 +/- 0.032 {'knn__n_neighbors': 3, 'logistic__C': 100.0, 'tree__max_depth': 5}\n",
            "0.808 +/- 0.023 {'knn__n_neighbors': 4, 'logistic__C': 0.001, 'tree__max_depth': 1}\n",
            "0.818 +/- 0.029 {'knn__n_neighbors': 4, 'logistic__C': 0.001, 'tree__max_depth': 2}\n",
            "0.828 +/- 0.032 {'knn__n_neighbors': 4, 'logistic__C': 0.001, 'tree__max_depth': 3}\n",
            "0.823 +/- 0.036 {'knn__n_neighbors': 4, 'logistic__C': 0.001, 'tree__max_depth': 4}\n",
            "0.839 +/- 0.031 {'knn__n_neighbors': 4, 'logistic__C': 0.001, 'tree__max_depth': 5}\n",
            "0.817 +/- 0.021 {'knn__n_neighbors': 4, 'logistic__C': 0.1, 'tree__max_depth': 1}\n",
            "0.828 +/- 0.025 {'knn__n_neighbors': 4, 'logistic__C': 0.1, 'tree__max_depth': 2}\n",
            "0.836 +/- 0.029 {'knn__n_neighbors': 4, 'logistic__C': 0.1, 'tree__max_depth': 3}\n",
            "0.831 +/- 0.034 {'knn__n_neighbors': 4, 'logistic__C': 0.1, 'tree__max_depth': 4}\n",
            "0.847 +/- 0.029 {'knn__n_neighbors': 4, 'logistic__C': 0.1, 'tree__max_depth': 5}\n",
            "0.816 +/- 0.020 {'knn__n_neighbors': 4, 'logistic__C': 100.0, 'tree__max_depth': 1}\n",
            "0.830 +/- 0.025 {'knn__n_neighbors': 4, 'logistic__C': 100.0, 'tree__max_depth': 2}\n",
            "0.833 +/- 0.030 {'knn__n_neighbors': 4, 'logistic__C': 100.0, 'tree__max_depth': 3}\n",
            "0.834 +/- 0.032 {'knn__n_neighbors': 4, 'logistic__C': 100.0, 'tree__max_depth': 4}\n",
            "0.845 +/- 0.028 {'knn__n_neighbors': 4, 'logistic__C': 100.0, 'tree__max_depth': 5}\n",
            "0.818 +/- 0.023 {'knn__n_neighbors': 5, 'logistic__C': 0.001, 'tree__max_depth': 1}\n",
            "0.825 +/- 0.029 {'knn__n_neighbors': 5, 'logistic__C': 0.001, 'tree__max_depth': 2}\n",
            "0.832 +/- 0.030 {'knn__n_neighbors': 5, 'logistic__C': 0.001, 'tree__max_depth': 3}\n",
            "0.831 +/- 0.034 {'knn__n_neighbors': 5, 'logistic__C': 0.001, 'tree__max_depth': 4}\n",
            "0.844 +/- 0.029 {'knn__n_neighbors': 5, 'logistic__C': 0.001, 'tree__max_depth': 5}\n",
            "0.827 +/- 0.021 {'knn__n_neighbors': 5, 'logistic__C': 0.1, 'tree__max_depth': 1}\n",
            "0.836 +/- 0.026 {'knn__n_neighbors': 5, 'logistic__C': 0.1, 'tree__max_depth': 2}\n",
            "0.841 +/- 0.027 {'knn__n_neighbors': 5, 'logistic__C': 0.1, 'tree__max_depth': 3}\n",
            "0.844 +/- 0.030 {'knn__n_neighbors': 5, 'logistic__C': 0.1, 'tree__max_depth': 4}\n",
            "0.853 +/- 0.027 {'knn__n_neighbors': 5, 'logistic__C': 0.1, 'tree__max_depth': 5}\n",
            "0.824 +/- 0.020 {'knn__n_neighbors': 5, 'logistic__C': 100.0, 'tree__max_depth': 1}\n",
            "0.836 +/- 0.025 {'knn__n_neighbors': 5, 'logistic__C': 100.0, 'tree__max_depth': 2}\n",
            "0.841 +/- 0.027 {'knn__n_neighbors': 5, 'logistic__C': 100.0, 'tree__max_depth': 3}\n",
            "0.841 +/- 0.030 {'knn__n_neighbors': 5, 'logistic__C': 100.0, 'tree__max_depth': 4}\n",
            "0.851 +/- 0.026 {'knn__n_neighbors': 5, 'logistic__C': 100.0, 'tree__max_depth': 5}\n"
          ],
          "name": "stdout"
        }
      ]
    },
    {
      "cell_type": "code",
      "metadata": {
        "colab": {
          "base_uri": "https://localhost:8080/"
        },
        "id": "63ma0a20ok1n",
        "outputId": "3d6cb30f-4186-4cf9-ecbb-2de0ed3245eb"
      },
      "source": [
        "print('최적의 파타미터: %s' % grid.best_params_)\n",
        "print('ACU: %.3f' % grid.best_score_)\n"
      ],
      "execution_count": null,
      "outputs": [
        {
          "output_type": "stream",
          "text": [
            "최적의 파타미터: {'knn__n_neighbors': 5, 'logistic__C': 0.1, 'tree__max_depth': 5}\n",
            "ACU: 0.853\n"
          ],
          "name": "stdout"
        }
      ]
    }
  ]
}